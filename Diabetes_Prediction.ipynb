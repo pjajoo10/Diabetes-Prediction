{
  "nbformat": 4,
  "nbformat_minor": 0,
  "metadata": {
    "colab": {
      "name": "Diabetes Prediction.ipynb",
      "provenance": [],
      "collapsed_sections": []
    },
    "kernelspec": {
      "name": "python3",
      "display_name": "Python 3"
    },
    "language_info": {
      "name": "python"
    }
  },
  "cells": [
    {
      "cell_type": "markdown",
      "metadata": {
        "id": "ykBMjBerImFX"
      },
      "source": [
        "# Project Description\n",
        "\n",
        "The objecive of the project is to implement the learnings from the lectures of the subject to solve a real life problem.\n",
        "\n",
        "For this project we have taken a dataset \"Pima Indians Diabetes Database\" from Kaggle. The dataset contains several diagnostic measures of females above the age of 21.\n",
        "\n",
        "The **goal** is to use the several predictor variables (diagnostic measures) to correctly predict whether the patient has diabetes or not."
      ]
    },
    {
      "cell_type": "markdown",
      "metadata": {
        "id": "GXcQ9lOiMLWA"
      },
      "source": [
        "# Implementation\n",
        "\n",
        "\n",
        "1. First we need to identify the problem and approach to solve it. The problem statement is straight-froward - predict whether the patient is diabetic or not with the help of the avialable data. This is clearly a categorical problem, that is, a binary classification problem (the patient is either diabetic or they are not)\n",
        "\n",
        "2. Then what we need to do is to check for inconsistencies, erratic values and errors in the data. But the dataset is a complete dataset and does not require data cleaning. Therefore, we can move forward to the next step.\n",
        "\n",
        "3. For a binary classification problem, several established algorithms can be used. We have decided to carry out the solution with the help of binary logistic regression.\n",
        "\n",
        "Below is the code for the same, followed by the results."
      ]
    },
    {
      "cell_type": "code",
      "metadata": {
        "id": "218deBKcSSMP"
      },
      "source": [
        "# importing necessary libraries\n",
        "\n",
        "import pandas as pd\n",
        "import numpy as np\n",
        "import seaborn as sns\n",
        "import matplotlib.pyplot as plt\n",
        "\n",
        "from sklearn.linear_model import LogisticRegression\n",
        "from sklearn.externals import joblib"
      ],
      "execution_count": null,
      "outputs": []
    },
    {
      "cell_type": "code",
      "metadata": {
        "colab": {
          "base_uri": "https://localhost:8080/"
        },
        "id": "KC9JF1b4Yra8",
        "outputId": "eee217c6-137b-4b2f-f189-1dd8ac77c796"
      },
      "source": [
        "# read the data into a dataframe though pandas\n",
        "\n",
        "diabetesDF = pd.read_csv(\"diabetes.csv\")\n",
        "print(diabetesDF.head)"
      ],
      "execution_count": null,
      "outputs": [
        {
          "output_type": "stream",
          "name": "stdout",
          "text": [
            "<bound method NDFrame.head of      Pregnancies  Glucose  ...  Age  Outcome\n",
            "0              6      148  ...   50        1\n",
            "1              1       85  ...   31        0\n",
            "2              8      183  ...   32        1\n",
            "3              1       89  ...   21        0\n",
            "4              0      137  ...   33        1\n",
            "..           ...      ...  ...  ...      ...\n",
            "763           10      101  ...   63        0\n",
            "764            2      122  ...   27        0\n",
            "765            5      121  ...   30        0\n",
            "766            1      126  ...   47        1\n",
            "767            1       93  ...   23        0\n",
            "\n",
            "[768 rows x 9 columns]>\n"
          ]
        }
      ]
    },
    {
      "cell_type": "code",
      "metadata": {
        "colab": {
          "base_uri": "https://localhost:8080/"
        },
        "id": "eVfYU2l3ZKl1",
        "outputId": "7a6e5c92-6fe8-41b1-a9fc-fa0db2677332"
      },
      "source": [
        "# checking for null values\n",
        "\n",
        "diabetesDF.info()"
      ],
      "execution_count": null,
      "outputs": [
        {
          "output_type": "stream",
          "name": "stdout",
          "text": [
            "<class 'pandas.core.frame.DataFrame'>\n",
            "RangeIndex: 768 entries, 0 to 767\n",
            "Data columns (total 9 columns):\n",
            " #   Column                    Non-Null Count  Dtype  \n",
            "---  ------                    --------------  -----  \n",
            " 0   Pregnancies               768 non-null    int64  \n",
            " 1   Glucose                   768 non-null    int64  \n",
            " 2   BloodPressure             768 non-null    int64  \n",
            " 3   SkinThickness             768 non-null    int64  \n",
            " 4   Insulin                   768 non-null    int64  \n",
            " 5   BMI                       768 non-null    float64\n",
            " 6   DiabetesPedigreeFunction  768 non-null    float64\n",
            " 7   Age                       768 non-null    int64  \n",
            " 8   Outcome                   768 non-null    int64  \n",
            "dtypes: float64(2), int64(7)\n",
            "memory usage: 54.1 KB\n"
          ]
        }
      ]
    },
    {
      "cell_type": "markdown",
      "metadata": {
        "id": "c8ssk3tCoWJK"
      },
      "source": [
        "Although there are no null values, upon close observation it is visible that too many 0's stand out in the columns of BMI, blood pressure, skin thickness; which makes no sense.\n",
        "\n",
        "Therefore these values are treated as missing values and are filled with the appropriate values as shown below"
      ]
    },
    {
      "cell_type": "code",
      "metadata": {
        "colab": {
          "base_uri": "https://localhost:8080/"
        },
        "id": "gsUWtDNZm9li",
        "outputId": "bacf635f-72dc-405d-df72-199fd30b90fb"
      },
      "source": [
        "# replace the 0's by null and count the null values\n",
        "\n",
        "diabetesDF[['Glucose','BloodPressure','SkinThickness','Insulin','BMI']] = diabetesDF[['Glucose','BloodPressure','SkinThickness','Insulin','BMI']].replace(0,np.NaN)\n",
        "diabetesDF.isnull().sum()"
      ],
      "execution_count": null,
      "outputs": [
        {
          "output_type": "execute_result",
          "data": {
            "text/plain": [
              "Pregnancies                   0\n",
              "Glucose                       5\n",
              "BloodPressure                35\n",
              "SkinThickness               227\n",
              "Insulin                     374\n",
              "BMI                          11\n",
              "DiabetesPedigreeFunction      0\n",
              "Age                           0\n",
              "Outcome                       0\n",
              "dtype: int64"
            ]
          },
          "metadata": {},
          "execution_count": 26
        }
      ]
    },
    {
      "cell_type": "code",
      "metadata": {
        "colab": {
          "base_uri": "https://localhost:8080/",
          "height": 206
        },
        "id": "fmcHeYifnqvU",
        "outputId": "69c0648c-1437-447b-a244-e1429f3a8ee0"
      },
      "source": [
        "# replacing the missing values by the medians of the attributes grouped by the outcome\n",
        "\n",
        "columns = diabetesDF.columns\n",
        "columns = columns.drop(\"Outcome\")\n",
        "\n",
        "for i in columns:    \n",
        "  diabetesDF[i] = diabetesDF[i].fillna(diabetesDF.groupby(\"Outcome\")[i].transform(\"median\"))\n",
        "\n",
        "diabetesDF.head()"
      ],
      "execution_count": null,
      "outputs": [
        {
          "output_type": "execute_result",
          "data": {
            "text/html": [
              "<div>\n",
              "<style scoped>\n",
              "    .dataframe tbody tr th:only-of-type {\n",
              "        vertical-align: middle;\n",
              "    }\n",
              "\n",
              "    .dataframe tbody tr th {\n",
              "        vertical-align: top;\n",
              "    }\n",
              "\n",
              "    .dataframe thead th {\n",
              "        text-align: right;\n",
              "    }\n",
              "</style>\n",
              "<table border=\"1\" class=\"dataframe\">\n",
              "  <thead>\n",
              "    <tr style=\"text-align: right;\">\n",
              "      <th></th>\n",
              "      <th>Pregnancies</th>\n",
              "      <th>Glucose</th>\n",
              "      <th>BloodPressure</th>\n",
              "      <th>SkinThickness</th>\n",
              "      <th>Insulin</th>\n",
              "      <th>BMI</th>\n",
              "      <th>DiabetesPedigreeFunction</th>\n",
              "      <th>Age</th>\n",
              "      <th>Outcome</th>\n",
              "    </tr>\n",
              "  </thead>\n",
              "  <tbody>\n",
              "    <tr>\n",
              "      <th>0</th>\n",
              "      <td>6</td>\n",
              "      <td>148.0</td>\n",
              "      <td>72.0</td>\n",
              "      <td>35.0</td>\n",
              "      <td>169.5</td>\n",
              "      <td>33.6</td>\n",
              "      <td>0.627</td>\n",
              "      <td>50</td>\n",
              "      <td>1</td>\n",
              "    </tr>\n",
              "    <tr>\n",
              "      <th>1</th>\n",
              "      <td>1</td>\n",
              "      <td>85.0</td>\n",
              "      <td>66.0</td>\n",
              "      <td>29.0</td>\n",
              "      <td>102.5</td>\n",
              "      <td>26.6</td>\n",
              "      <td>0.351</td>\n",
              "      <td>31</td>\n",
              "      <td>0</td>\n",
              "    </tr>\n",
              "    <tr>\n",
              "      <th>2</th>\n",
              "      <td>8</td>\n",
              "      <td>183.0</td>\n",
              "      <td>64.0</td>\n",
              "      <td>32.0</td>\n",
              "      <td>169.5</td>\n",
              "      <td>23.3</td>\n",
              "      <td>0.672</td>\n",
              "      <td>32</td>\n",
              "      <td>1</td>\n",
              "    </tr>\n",
              "    <tr>\n",
              "      <th>3</th>\n",
              "      <td>1</td>\n",
              "      <td>89.0</td>\n",
              "      <td>66.0</td>\n",
              "      <td>23.0</td>\n",
              "      <td>94.0</td>\n",
              "      <td>28.1</td>\n",
              "      <td>0.167</td>\n",
              "      <td>21</td>\n",
              "      <td>0</td>\n",
              "    </tr>\n",
              "    <tr>\n",
              "      <th>4</th>\n",
              "      <td>0</td>\n",
              "      <td>137.0</td>\n",
              "      <td>40.0</td>\n",
              "      <td>35.0</td>\n",
              "      <td>168.0</td>\n",
              "      <td>43.1</td>\n",
              "      <td>2.288</td>\n",
              "      <td>33</td>\n",
              "      <td>1</td>\n",
              "    </tr>\n",
              "  </tbody>\n",
              "</table>\n",
              "</div>"
            ],
            "text/plain": [
              "   Pregnancies  Glucose  BloodPressure  ...  DiabetesPedigreeFunction  Age  Outcome\n",
              "0            6    148.0           72.0  ...                     0.627   50        1\n",
              "1            1     85.0           66.0  ...                     0.351   31        0\n",
              "2            8    183.0           64.0  ...                     0.672   32        1\n",
              "3            1     89.0           66.0  ...                     0.167   21        0\n",
              "4            0    137.0           40.0  ...                     2.288   33        1\n",
              "\n",
              "[5 rows x 9 columns]"
            ]
          },
          "metadata": {},
          "execution_count": 27
        }
      ]
    },
    {
      "cell_type": "code",
      "metadata": {
        "colab": {
          "base_uri": "https://localhost:8080/",
          "height": 408
        },
        "id": "uFAwFxoWZhvS",
        "outputId": "07901da8-ecb9-4b6a-83e0-102d5f5cfef6"
      },
      "source": [
        "# checking correlation between the diagnostic measures and the outcome\n",
        "\n",
        "correlation = diabetesDF.corr()\n",
        "sns.heatmap(correlation, cmap=\"YlGnBu\", xticklabels=correlation.columns, yticklabels=correlation.columns)"
      ],
      "execution_count": null,
      "outputs": [
        {
          "output_type": "execute_result",
          "data": {
            "text/plain": [
              "<matplotlib.axes._subplots.AxesSubplot at 0x7fe124d4fc50>"
            ]
          },
          "metadata": {},
          "execution_count": 28
        },
        {
          "output_type": "display_data",
          "data": {
            "image/png": "[encoded data removed]",
            "text/plain": [
              "<Figure size 432x288 with 2 Axes>"
            ]
          },
          "metadata": {
            "needs_background": "light"
          }
        }
      ]
    },
    {
      "cell_type": "code",
      "metadata": {
        "id": "UZfZsI_WfNVc"
      },
      "source": [
        "# preparing data for model\n",
        "\n",
        "trainDF = diabetesDF[:660]\n",
        "testDF = diabetesDF[660:]\n",
        "\n",
        "train_label = np.asarray(trainDF[\"Outcome\"])\n",
        "train_data = np.asarray(trainDF.drop(\"Outcome\", 1))\n",
        "test_label = np.asarray(testDF[\"Outcome\"])\n",
        "test_data = np.asarray(testDF.drop(\"Outcome\", 1))"
      ],
      "execution_count": null,
      "outputs": []
    },
    {
      "cell_type": "code",
      "metadata": {
        "id": "v9YiZ16wiPBk"
      },
      "source": [
        "# normalizing data for effective learning of the model\n",
        "\n",
        "means = np.mean(train_data, axis=0)     #mean\n",
        "stddevs = np.std(train_data, axis=0)    #standard deviation\n",
        "\n",
        "train_data = (train_data - means)/stddevs\n",
        "test_data = (test_data - means)/stddevs\n",
        "\n",
        "np.mean(train_data, axis=0)\n",
        "np.std(train_data, axis=0)"
      ],
      "execution_count": null,
      "outputs": []
    },
    {
      "cell_type": "code",
      "metadata": {
        "colab": {
          "base_uri": "https://localhost:8080/"
        },
        "id": "waajjBN1jK2k",
        "outputId": "cb0d6824-92b4-44fa-bbe5-80bb7d4da51f"
      },
      "source": [
        "# train the model\n",
        "\n",
        "diabetesCheck = LogisticRegression(solver=\"lbfgs\", max_iter=1000)\n",
        "diabetesCheck.fit(train_data, train_label)\n",
        "\n",
        "test_pred = diabetesCheck.predict(test_data)\n",
        "\n",
        "from sklearn.metrics import classification_report\n",
        "print(classification_report(test_label, test_pred))"
      ],
      "execution_count": null,
      "outputs": [
        {
          "output_type": "stream",
          "name": "stdout",
          "text": [
            "              precision    recall  f1-score   support\n",
            "\n",
            "           0       0.77      0.88      0.82        65\n",
            "           1       0.76      0.60      0.68        43\n",
            "\n",
            "    accuracy                           0.77       108\n",
            "   macro avg       0.77      0.74      0.75       108\n",
            "weighted avg       0.77      0.77      0.76       108\n",
            "\n"
          ]
        }
      ]
    },
    {
      "cell_type": "code",
      "metadata": {
        "colab": {
          "base_uri": "https://localhost:8080/"
        },
        "id": "3x_3jynGjcfe",
        "outputId": "7f96b9db-42d0-4f4c-f932-2088a974a243"
      },
      "source": [
        "# test the model\n",
        "\n",
        "accuracy = diabetesCheck.score(test_data, test_label)\n",
        "print(\"Accuracy = \", accuracy * 100, \"%\")"
      ],
      "execution_count": null,
      "outputs": [
        {
          "output_type": "stream",
          "name": "stdout",
          "text": [
            "Accuracy =  76.85185185185185 %\n"
          ]
        }
      ]
    },
    {
      "cell_type": "code",
      "metadata": {
        "colab": {
          "base_uri": "https://localhost:8080/",
          "height": 406
        },
        "id": "HM5mTiF-n7Mz",
        "outputId": "d82b4ab7-46ec-4bfd-e8a8-514fb96bbc61"
      },
      "source": [
        "# shows which features have greater effect on the outcome\n",
        "\n",
        "coeff = list(diabetesCheck.coef_[0])\n",
        "labels = list(trainDF.drop(\"Outcome\", 1).columns)\n",
        "features = pd.DataFrame()\n",
        "features['Features'] = labels\n",
        "features['importance'] = coeff\n",
        "features.sort_values(by=['importance'], ascending=True, inplace=True)\n",
        "features['positive'] = features['importance'] > 0\n",
        "features.set_index('Features', inplace=True)\n",
        "features.importance.plot(kind='barh', figsize=(11, 6),color = features.positive.map({True: 'blue', False: 'red'}))\n",
        "plt.xlabel('Importance')"
      ],
      "execution_count": null,
      "outputs": [
        {
          "output_type": "execute_result",
          "data": {
            "text/plain": [
              "Text(0.5, 0, 'Importance')"
            ]
          },
          "metadata": {},
          "execution_count": 36
        },
        {
          "output_type": "display_data",
          "data": {
            "image/png": "[encoded data removed]",
            "text/plain": [
              "<Figure size 792x432 with 1 Axes>"
            ]
          },
          "metadata": {
            "needs_background": "light"
          }
        }
      ]
    }
  ]
}